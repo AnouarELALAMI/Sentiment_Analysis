{
 "cells": [
  {
   "cell_type": "code",
   "execution_count": 10,
   "metadata": {},
   "outputs": [],
   "source": [
    "import pandas as pd"
   ]
  },
  {
   "cell_type": "code",
   "execution_count": 11,
   "metadata": {},
   "outputs": [],
   "source": [
    "import tweepy"
   ]
  },
  {
   "cell_type": "code",
   "execution_count": 12,
   "metadata": {},
   "outputs": [],
   "source": [
    "import requests\n"
   ]
  },
  {
   "cell_type": "code",
   "execution_count": 13,
   "metadata": {},
   "outputs": [],
   "source": [
    "from bs4 import BeautifulSoup\n"
   ]
  },
  {
   "cell_type": "code",
   "execution_count": 14,
   "metadata": {},
   "outputs": [],
   "source": [
    "import os"
   ]
  },
  {
   "cell_type": "code",
   "execution_count": 17,
   "metadata": {},
   "outputs": [
    {
     "ename": "NameError",
     "evalue": "name 'configparser' is not defined",
     "output_type": "error",
     "traceback": [
      "\u001b[1;31m---------------------------------------------------------------------------\u001b[0m",
      "\u001b[1;31mNameError\u001b[0m                                 Traceback (most recent call last)",
      "\u001b[1;32mc:\\Users\\HP Elitebook 840\\Desktop\\ALAMI\\python für data anlyst course\\notebook files\\Refactored_Py_DS_ML_Bootcamp-master\\.ipynb_checkpoints\\data_pour-pfe.ipynb Cell 6\u001b[0m in \u001b[0;36m<cell line: 1>\u001b[1;34m()\u001b[0m\n\u001b[1;32m----> <a href='vscode-notebook-cell:/c%3A/Users/HP%20Elitebook%20840/Desktop/ALAMI/python%20f%C3%BCr%20data%20anlyst%20course/notebook%20files/Refactored_Py_DS_ML_Bootcamp-master/.ipynb_checkpoints/data_pour-pfe.ipynb#X20sZmlsZQ%3D%3D?line=0'>1</a>\u001b[0m config\u001b[39m=\u001b[39m configparser\u001b[39m.\u001b[39mConfigParser()\n",
      "\u001b[1;31mNameError\u001b[0m: name 'configparser' is not defined"
     ]
    }
   ],
   "source": [
    "config= configparser.ConfigParser()"
   ]
  },
  {
   "cell_type": "code",
   "execution_count": 15,
   "metadata": {},
   "outputs": [],
   "source": [
    "from dotenv import load_dotenv"
   ]
  },
  {
   "cell_type": "code",
   "execution_count": 16,
   "metadata": {},
   "outputs": [
    {
     "ename": "AttributeError",
     "evalue": "'API' object has no attribute 'search'",
     "output_type": "error",
     "traceback": [
      "\u001b[1;31m---------------------------------------------------------------------------\u001b[0m",
      "\u001b[1;31mAttributeError\u001b[0m                            Traceback (most recent call last)",
      "\u001b[1;32mc:\\Users\\HP Elitebook 840\\Desktop\\ALAMI\\python für data anlyst course\\notebook files\\Refactored_Py_DS_ML_Bootcamp-master\\.ipynb_checkpoints\\data_pour-pfe.ipynb Cell 7\u001b[0m in \u001b[0;36m<cell line: 15>\u001b[1;34m()\u001b[0m\n\u001b[0;32m     <a href='vscode-notebook-cell:/c%3A/Users/HP%20Elitebook%20840/Desktop/ALAMI/python%20f%C3%BCr%20data%20anlyst%20course/notebook%20files/Refactored_Py_DS_ML_Bootcamp-master/.ipynb_checkpoints/data_pour-pfe.ipynb#X11sZmlsZQ%3D%3D?line=11'>12</a>\u001b[0m desired_tweet_count \u001b[39m=\u001b[39m \u001b[39m2500\u001b[39m\n\u001b[0;32m     <a href='vscode-notebook-cell:/c%3A/Users/HP%20Elitebook%20840/Desktop/ALAMI/python%20f%C3%BCr%20data%20anlyst%20course/notebook%20files/Refactored_Py_DS_ML_Bootcamp-master/.ipynb_checkpoints/data_pour-pfe.ipynb#X11sZmlsZQ%3D%3D?line=13'>14</a>\u001b[0m \u001b[39m# Durchsuchen Sie die Tweets nach einem bestimmten Schlagwort oder Thema\u001b[39;00m\n\u001b[1;32m---> <a href='vscode-notebook-cell:/c%3A/Users/HP%20Elitebook%20840/Desktop/ALAMI/python%20f%C3%BCr%20data%20anlyst%20course/notebook%20files/Refactored_Py_DS_ML_Bootcamp-master/.ipynb_checkpoints/data_pour-pfe.ipynb#X11sZmlsZQ%3D%3D?line=14'>15</a>\u001b[0m \u001b[39mfor\u001b[39;00m tweet \u001b[39min\u001b[39;00m tweepy\u001b[39m.\u001b[39mCursor(api\u001b[39m.\u001b[39;49msearch, q\u001b[39m=\u001b[39m\u001b[39m'\u001b[39m\u001b[39mAktien\u001b[39m\u001b[39m'\u001b[39m, lang\u001b[39m=\u001b[39m\u001b[39m'\u001b[39m\u001b[39mde\u001b[39m\u001b[39m'\u001b[39m, tweet_mode\u001b[39m=\u001b[39m\u001b[39m'\u001b[39m\u001b[39mextended\u001b[39m\u001b[39m'\u001b[39m)\u001b[39m.\u001b[39mitems():\n\u001b[0;32m     <a href='vscode-notebook-cell:/c%3A/Users/HP%20Elitebook%20840/Desktop/ALAMI/python%20f%C3%BCr%20data%20anlyst%20course/notebook%20files/Refactored_Py_DS_ML_Bootcamp-master/.ipynb_checkpoints/data_pour-pfe.ipynb#X11sZmlsZQ%3D%3D?line=15'>16</a>\u001b[0m     tweets\u001b[39m.\u001b[39mappend(tweet\u001b[39m.\u001b[39mfull_text)\n\u001b[0;32m     <a href='vscode-notebook-cell:/c%3A/Users/HP%20Elitebook%20840/Desktop/ALAMI/python%20f%C3%BCr%20data%20anlyst%20course/notebook%20files/Refactored_Py_DS_ML_Bootcamp-master/.ipynb_checkpoints/data_pour-pfe.ipynb#X11sZmlsZQ%3D%3D?line=16'>17</a>\u001b[0m     tweet_count \u001b[39m+\u001b[39m\u001b[39m=\u001b[39m \u001b[39m1\u001b[39m\n",
      "\u001b[1;31mAttributeError\u001b[0m: 'API' object has no attribute 'search'"
     ]
    }
   ],
   "source": [
    "consumer_key = 'xPiF8MO3hoEmbXsQBv4ymBaGx'\n",
    "consumer_secret = '5pMyXZ7ENUTeHo1Gg317T8JLL18m1M866LwvDBj8oyn87VTJ6r'\n",
    "access_token = ':1331937578136850432-ZKg3RHEEFidkX0BrwbPPViXs5y6auv'\n",
    "access_token_secret = 'ZqwERBNzbgCffoeHRMojIoqinvPF1w1hkAtWwQmwGMnAr'\n",
    "\n",
    "auth = tweepy.OAuthHandler(consumer_key, consumer_secret)\n",
    "auth.set_access_token(access_token, access_token_secret)\n",
    "api = tweepy.API(auth)\n",
    "\n",
    "tweets = []\n",
    "tweet_count = 0\n",
    "desired_tweet_count = 2500\n",
    "\n",
    "# Durchsuchen Sie die Tweets nach einem bestimmten Schlagwort oder Thema\n",
    "for tweet in tweepy.Cursor(api.search, q='Aktien', lang='de', tweet_mode='extended').items():\n",
    "    tweets.append(tweet.full_text)\n",
    "    tweet_count += 1\n",
    "\n",
    "    if tweet_count >= desired_tweet_count:\n",
    "        break\n"
   ]
  },
  {
   "cell_type": "code",
   "execution_count": null,
   "metadata": {},
   "outputs": [],
   "source": []
  }
 ],
 "metadata": {
  "kernelspec": {
   "display_name": "Python 3",
   "language": "python",
   "name": "python3"
  },
  "language_info": {
   "codemirror_mode": {
    "name": "ipython",
    "version": 3
   },
   "file_extension": ".py",
   "mimetype": "text/x-python",
   "name": "python",
   "nbconvert_exporter": "python",
   "pygments_lexer": "ipython3",
   "version": "3.9.12"
  },
  "orig_nbformat": 4
 },
 "nbformat": 4,
 "nbformat_minor": 2
}
